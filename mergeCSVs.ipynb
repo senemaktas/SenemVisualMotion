{
  "nbformat": 4,
  "nbformat_minor": 0,
  "metadata": {
    "colab": {
      "name": "mergeCSVs.ipynb",
      "provenance": [],
      "collapsed_sections": []
    },
    "kernelspec": {
      "name": "python3",
      "display_name": "Python 3"
    }
  },
  "cells": [
    {
      "cell_type": "code",
      "metadata": {
        "id": "bammBtcT024J",
        "colab": {
          "base_uri": "https://localhost:8080/"
        },
        "outputId": "4857d4c0-4547-482f-fb53-5a7d66e0d2e7"
      },
      "source": [
        "from google.colab import drive\n",
        "drive.mount('/content/drive')"
      ],
      "execution_count": null,
      "outputs": [
        {
          "output_type": "stream",
          "text": [
            "Drive already mounted at /content/drive; to attempt to forcibly remount, call drive.mount(\"/content/drive\", force_remount=True).\n"
          ],
          "name": "stdout"
        }
      ]
    },
    {
      "cell_type": "code",
      "metadata": {
        "colab": {
          "base_uri": "https://localhost:8080/"
        },
        "id": "yZRw-VQwgz3_",
        "outputId": "08f9ed25-c345-4298-f256-526335f14260"
      },
      "source": [
        "import pandas as pd \n",
        "import os\n",
        "import glob\n",
        "path = '/content/drive/MyDrive/RAPGAN/csv output/sounds/'\n",
        "filelist = glob.glob(path + \"/*.csv\")\n",
        "print(filelist)\n",
        "# frame = pd.concat([pd.read_csv(file,names=[\"time_motion\", \"X_motion\", \"Y_motion\", \"QoM_motion\"]) for file in filelist])"
      ],
      "execution_count": null,
      "outputs": [
        {
          "output_type": "stream",
          "text": [
            "['/content/drive/MyDrive/RAPGAN/csv output/sounds/Vid_43_Chorale_tpt_tpt_hn_tbn_tba.csv', '/content/drive/MyDrive/RAPGAN/csv output/sounds/Vid_38_Jerusalem_vn_vn_va_vc_db.csv', '/content/drive/MyDrive/RAPGAN/csv output/sounds/Vid_44_K515_vn_vn_va_va_vc.csv', '/content/drive/MyDrive/RAPGAN/csv output/sounds/Vid_39_Jerusalem_vn_vn_va_sax_db.csv', '/content/drive/MyDrive/RAPGAN/csv output/sounds/Vid_37_Rondeau_fl_vn_va_cl.csv', '/content/drive/MyDrive/RAPGAN/csv output/sounds/Vid_36_Rondeau_vn_vn_va_vc.csv', '/content/drive/MyDrive/RAPGAN/csv output/sounds/Vid_42_Arioso_tpt_tpt_hn_tbn_tba.csv', '/content/drive/MyDrive/RAPGAN/csv output/sounds/Vid_41_Miserere_fl_fl_ob_sax_bn.csv', '/content/drive/MyDrive/RAPGAN/csv output/sounds/Vid_40_Miserere_fl_fl_ob_cl_bn.csv', '/content/drive/MyDrive/RAPGAN/csv output/sounds/Vid_32_Fugue_vn_vn_va_vc.csv', '/content/drive/MyDrive/RAPGAN/csv output/sounds/Vid_31_Slavonic_tpt_tpt_hn_tbn.csv', '/content/drive/MyDrive/RAPGAN/csv output/sounds/Vid_30_Fugue_fl_fl_ob_sax.csv', '/content/drive/MyDrive/RAPGAN/csv output/sounds/Vid_29_Fugue_fl_fl_ob_cl.csv', '/content/drive/MyDrive/RAPGAN/csv output/sounds/Vid_28_Fugue_fl_ob_cl_bn.csv', '/content/drive/MyDrive/RAPGAN/csv output/sounds/Vid_34_Fugue_tpt_tpt_hn_tbn.csv', '/content/drive/MyDrive/RAPGAN/csv output/sounds/Vid_27_King_vn_vn_va_sax.csv', '/content/drive/MyDrive/RAPGAN/csv output/sounds/Vid_26_King_vn_vn_va_vc.csv', '/content/drive/MyDrive/RAPGAN/csv output/sounds/Vid_35_Rondeau_vn_vn_va_db.csv', '/content/drive/MyDrive/RAPGAN/csv output/sounds/Vid_33_Elise_tpt_tpt_hn_tbn.csv', '/content/drive/MyDrive/RAPGAN/csv output/sounds/Vid_21_Rejouissance_cl_tbn_tba.csv', '/content/drive/MyDrive/RAPGAN/csv output/sounds/Vid_18_Nocturne_vn_fl_tpt.csv', '/content/drive/MyDrive/RAPGAN/csv output/sounds/Vid_24_Pirates_vn_vn_va_vc.csv', '/content/drive/MyDrive/RAPGAN/csv output/sounds/Vid_23_Rejouissance_cl_sax_tba.csv', '/content/drive/MyDrive/RAPGAN/csv output/sounds/Vid_20_Pavane_tpt_vn_vc.csv', '/content/drive/MyDrive/RAPGAN/csv output/sounds/Vid_19_Pavane_cl_vn_vc.csv', '/content/drive/MyDrive/RAPGAN/csv output/sounds/Vid_25_Pirates_vn_vn_va_sax.csv', '/content/drive/MyDrive/RAPGAN/csv output/sounds/Vid_17_Nocturne_vn_fl_cl.csv', '/content/drive/MyDrive/RAPGAN/csv output/sounds/Vid_22_Rejouissance_sax_tbn_tba.csv', '/content/drive/MyDrive/RAPGAN/csv output/sounds/Vid_16_Surprise_tpt_tpt_sax.csv', '/content/drive/MyDrive/RAPGAN/csv output/sounds/Vid_10_March_tpt_sax.csv', '/content/drive/MyDrive/RAPGAN/csv output/sounds/Vid_15_Surprise_tpt_tpt_tbn.csv', '/content/drive/MyDrive/RAPGAN/csv output/sounds/Vid_12_Spring_vn_vn_vc.csv', '/content/drive/MyDrive/RAPGAN/csv output/sounds/Vid_06_Entertainer_sax_sax.csv', '/content/drive/MyDrive/RAPGAN/csv output/sounds/Vid_14_Waltz_fl_fl_cl.csv', '/content/drive/MyDrive/RAPGAN/csv output/sounds/Vid_11_Maria_ob_vc.csv', '/content/drive/MyDrive/RAPGAN/csv output/sounds/Vid_08_Spring_fl_vn.csv', '/content/drive/MyDrive/RAPGAN/csv output/sounds/Vid_09_Jesus_tpt_vn.csv', '/content/drive/MyDrive/RAPGAN/csv output/sounds/Vid_13_Hark_vn_vn_va.csv', '/content/drive/MyDrive/RAPGAN/csv output/sounds/Vid_07_GString_tpt_tbn.csv', '/content/drive/MyDrive/RAPGAN/csv output/sounds/Vid_02_Sonata_vn_vn.csv', '/content/drive/MyDrive/RAPGAN/csv output/sounds/Vid_03_Dance_fl_cl.csv', '/content/drive/MyDrive/RAPGAN/csv output/sounds/Vid_04_Allegro_fl_fl.csv', '/content/drive/MyDrive/RAPGAN/csv output/sounds/Vid_05_Entertainer_tpt_tpt.csv', '/content/drive/MyDrive/RAPGAN/csv output/sounds/Vid_01_Jupiter_vn_vc.csv']\n"
          ],
          "name": "stdout"
        }
      ]
    },
    {
      "cell_type": "code",
      "metadata": {
        "id": "zxsyIY1phnKP"
      },
      "source": [
        "#!python3\n",
        "import csv\n",
        "for i in filelist:\n",
        "  with open(i,newline='') as f:\n",
        "      r = csv.reader(f)\n",
        "      data = [line for line in r]\n",
        "  with open(i,'w',newline='') as f:\n",
        "      w = csv.writer(f)\n",
        "      w.writerow([\"time_sound\", \"beat_sound\"])\n",
        "      w.writerows(data)"
      ],
      "execution_count": null,
      "outputs": []
    },
    {
      "cell_type": "code",
      "metadata": {
        "id": "MqIaVsNv1TGE"
      },
      "source": [
        "import numpy as np\n",
        "import pandas as pd\n",
        "import csv\n",
        "def mergeFunction(gesture_csv,sound_csv,output):\n",
        "  # print(gesture_csv)\n",
        "  gestureVar=pd.read_csv(gesture_csv)\n",
        "  soundVar=pd.read_csv(sound_csv)\n",
        "\n",
        "  X=[]\n",
        "  for row in soundVar.beat_sound:\n",
        "    X.append(row)\n",
        "  X=np.array(X) \n",
        "\n",
        "  a=0\n",
        "  t=0\n",
        "  times_list=[]\n",
        "\n",
        "  while (a < gestureVar.shape[0]):\n",
        "    if (a==X[t] and t<(len(X)-1)):\n",
        "      times_list.append(1)\n",
        "      t+=1 \n",
        "      # print(a)\n",
        "    else:\n",
        "      times_list.append(0)\n",
        "    a+=1\n",
        "\n",
        "  indata = pd.read_csv(gesture_csv)\n",
        "  zipped = pd.DataFrame(zip(times_list))\n",
        "  #axis=1 indicates to concat the frames column wise\n",
        "  outdata = pd.concat([indata, zipped], axis=1)\n",
        "  #we dont want headers and dont want the row labels\n",
        "  outdata.to_csv(output, header=False, index=False)\n"
      ],
      "execution_count": null,
      "outputs": []
    },
    {
      "cell_type": "code",
      "metadata": {
        "colab": {
          "base_uri": "https://localhost:8080/"
        },
        "id": "KJV1CFF1WT1S",
        "outputId": "1e1002b1-2930-43e8-af62-357e89a78b77"
      },
      "source": [
        "import os\n",
        "path='/content/drive/MyDrive/RAPGAN/csv output/MusicalGesture/'\n",
        "mcsv = [os.path.join(root, name)\n",
        "             for root, dirs, files in os.walk(path)\n",
        "             for name in files\n",
        "             if name.endswith((\".csv\"))]\n",
        "finalPathMcsv=[]\n",
        "finalPathScsv=[]\n",
        "FakeCSVTotal=[]\n",
        "for i in mcsv:\n",
        "  p=i[i.rindex('/')+1:i.rindex('_')]\n",
        "  print(p)\n",
        "  mcsvpath= '/content/drive/MyDrive/RAPGAN/csv output/MusicalGesture/'+p+'_motion.csv'\n",
        "  scsvpath= '/content/drive/MyDrive/RAPGAN/csv output/sounds/'+p+'.csv'\n",
        "  fakeCSV= '/content/drive/MyDrive/RAPGAN/csv output/total/'+p+'.csv'\n",
        "  finalPathMcsv.append(mcsvpath)\n",
        "  finalPathScsv.append(scsvpath)\n",
        "  FakeCSVTotal.append(fakeCSV)\n",
        "  mergeFunction(mcsvpath,scsvpath,fakeCSV)\n"
      ],
      "execution_count": null,
      "outputs": [
        {
          "output_type": "stream",
          "text": [
            "Vid_43_Chorale_tpt_tpt_hn_tbn_tba\n",
            "Vid_38_Jerusalem_vn_vn_va_vc_db\n",
            "Vid_44_K515_vn_vn_va_va_vc\n",
            "Vid_39_Jerusalem_vn_vn_va_sax_db\n",
            "Vid_37_Rondeau_fl_vn_va_cl\n",
            "Vid_36_Rondeau_vn_vn_va_vc\n",
            "Vid_42_Arioso_tpt_tpt_hn_tbn_tba\n",
            "Vid_41_Miserere_fl_fl_ob_sax_bn\n",
            "Vid_40_Miserere_fl_fl_ob_cl_bn\n",
            "Vid_09_Jesus_tpt_vn\n",
            "Vid_13_Hark_vn_vn_va\n",
            "Vid_32_Fugue_vn_vn_va_vc\n",
            "Vid_31_Slavonic_tpt_tpt_hn_tbn\n",
            "Vid_07_GString_tpt_tbn\n",
            "Vid_30_Fugue_fl_fl_ob_sax\n",
            "Vid_02_Sonata_vn_vn\n",
            "Vid_03_Dance_fl_cl\n",
            "Vid_29_Fugue_fl_fl_ob_cl\n",
            "Vid_04_Allegro_fl_fl\n",
            "Vid_28_Fugue_fl_ob_cl_bn\n",
            "Vid_05_Entertainer_tpt_tpt\n",
            "Vid_34_Fugue_tpt_tpt_hn_tbn\n",
            "Vid_27_King_vn_vn_va_sax\n",
            "Vid_26_King_vn_vn_va_vc\n",
            "Vid_35_Rondeau_vn_vn_va_db\n",
            "Vid_33_Elise_tpt_tpt_hn_tbn\n",
            "Vid_21_Rejouissance_cl_tbn_tba\n",
            "Vid_18_Nocturne_vn_fl_tpt\n",
            "Vid_24_Pirates_vn_vn_va_vc\n",
            "Vid_23_Rejouissance_cl_sax_tba\n",
            "Vid_20_Pavane_tpt_vn_vc\n",
            "Vid_19_Pavane_cl_vn_vc\n",
            "Vid_25_Pirates_vn_vn_va_sax\n",
            "Vid_17_Nocturne_vn_fl_cl\n",
            "Vid_22_Rejouissance_sax_tbn_tba\n",
            "Vid_16_Surprise_tpt_tpt_sax\n",
            "Vid_10_March_tpt_sax\n",
            "Vid_15_Surprise_tpt_tpt_tbn\n",
            "Vid_12_Spring_vn_vn_vc\n",
            "Vid_06_Entertainer_sax_sax\n",
            "Vid_14_Waltz_fl_fl_cl\n",
            "Vid_11_Maria_ob_vc\n",
            "Vid_08_Spring_fl_vn\n",
            "Vid_01_Jupiter_vn_vc\n"
          ],
          "name": "stdout"
        }
      ]
    },
    {
      "cell_type": "code",
      "metadata": {
        "colab": {
          "base_uri": "https://localhost:8080/"
        },
        "id": "PiGRSgcjA8AA",
        "outputId": "910845e8-5d10-434d-a354-9cfa835802fd"
      },
      "source": [
        "X=[]\n",
        "for row in soundVar.beat_sound:\n",
        "    X.append(row)\n",
        "X=np.array(X)  \n",
        "print(X)"
      ],
      "execution_count": null,
      "outputs": [
        {
          "output_type": "stream",
          "text": [
            "[    0    93   557  1022  1486  1950  2415  2902  3390  3878  4365  4853\n",
            "  5364  5851  6293  6757  7221  7663  8150  8661  9125  9636 10147 10612\n",
            " 11076 11517 12005 12492 12957 13421 13862 14303 14745 15186 15604 16045\n",
            " 16486 16951 17392 17879 18344 18831 19296 19760 20201 20643 21060 21502\n",
            " 21966 22407 22848 23290 23731 24195 24660 25078 25519 25937 26355 26819\n",
            " 27283 27748 28212 28700 29187 29675 30093 30557 31022 31486 31835 32299\n",
            " 32787 33251 33739 34203 34691 35155 35619 36061 36548 37013 37500 38058\n",
            " 38522 39010 39427 39915 40356 40797 41262 41773 42284 42818 43282 43770\n",
            " 44257 44722 45163 45650 46138 46602 47044 47508 47996 48437 48878 49319\n",
            " 49807 50294 50782 51270 51734 52245 52733 53243 53685 54102 54567 55031\n",
            " 55449 55890 56401 56912 57400 57864 58352]\n"
          ],
          "name": "stdout"
        }
      ]
    },
    {
      "cell_type": "code",
      "metadata": {
        "id": "jqbHx582D5N1"
      },
      "source": [
        "a=0\n",
        "t=0\n",
        "times_list=[]\n",
        "\n",
        "while (a < gestureVar.shape[0]):\n",
        "  if (a==X[t] and t<(len(X)-1)):\n",
        "    times_list.append(1)\n",
        "    t+=1 \n",
        "    print(a)\n",
        "  else:\n",
        "    times_list.append(0)\n",
        "  a+=1\n",
        " \n",
        "  #print(t)"
      ],
      "execution_count": null,
      "outputs": []
    },
    {
      "cell_type": "code",
      "metadata": {
        "id": "Rw4NNRpEIziy"
      },
      "source": [
        "indata = pd.read_csv(gesture_csv)\n",
        "zipped = pd.DataFrame(zip(times_list))\n",
        "#axis=1 indicates to concat the frames column wise\n",
        "outdata = pd.concat([indata, zipped], axis=1)\n",
        "#we dont want headers and dont want the row labels\n",
        "outdata.to_csv('/content/out.csv', header=False, index=False)"
      ],
      "execution_count": null,
      "outputs": []
    },
    {
      "cell_type": "code",
      "metadata": {
        "colab": {
          "base_uri": "https://localhost:8080/",
          "height": 17
        },
        "id": "fOJkZyRBLFrr",
        "outputId": "9ae91458-910e-4532-957e-64e02dda4d07"
      },
      "source": [
        "from google.colab import files\n",
        "files.download(\"/content/out.csv\")"
      ],
      "execution_count": null,
      "outputs": [
        {
          "output_type": "display_data",
          "data": {
            "application/javascript": [
              "\n",
              "    async function download(id, filename, size) {\n",
              "      if (!google.colab.kernel.accessAllowed) {\n",
              "        return;\n",
              "      }\n",
              "      const div = document.createElement('div');\n",
              "      const label = document.createElement('label');\n",
              "      label.textContent = `Downloading \"${filename}\": `;\n",
              "      div.appendChild(label);\n",
              "      const progress = document.createElement('progress');\n",
              "      progress.max = size;\n",
              "      div.appendChild(progress);\n",
              "      document.body.appendChild(div);\n",
              "\n",
              "      const buffers = [];\n",
              "      let downloaded = 0;\n",
              "\n",
              "      const channel = await google.colab.kernel.comms.open(id);\n",
              "      // Send a message to notify the kernel that we're ready.\n",
              "      channel.send({})\n",
              "\n",
              "      for await (const message of channel.messages) {\n",
              "        // Send a message to notify the kernel that we're ready.\n",
              "        channel.send({})\n",
              "        if (message.buffers) {\n",
              "          for (const buffer of message.buffers) {\n",
              "            buffers.push(buffer);\n",
              "            downloaded += buffer.byteLength;\n",
              "            progress.value = downloaded;\n",
              "          }\n",
              "        }\n",
              "      }\n",
              "      const blob = new Blob(buffers, {type: 'application/binary'});\n",
              "      const a = document.createElement('a');\n",
              "      a.href = window.URL.createObjectURL(blob);\n",
              "      a.download = filename;\n",
              "      div.appendChild(a);\n",
              "      a.click();\n",
              "      div.remove();\n",
              "    }\n",
              "  "
            ],
            "text/plain": [
              "<IPython.core.display.Javascript object>"
            ]
          },
          "metadata": {
            "tags": []
          }
        },
        {
          "output_type": "display_data",
          "data": {
            "application/javascript": [
              "download(\"download_b08a685d-ae7b-485e-b003-c1a357ba6b83\", \"out.csv\", 3395857)"
            ],
            "text/plain": [
              "<IPython.core.display.Javascript object>"
            ]
          },
          "metadata": {
            "tags": []
          }
        }
      ]
    }
  ]
}