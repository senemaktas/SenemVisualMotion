{
  "nbformat": 4,
  "nbformat_minor": 0,
  "metadata": {
    "accelerator": "GPU",
    "colab": {
      "name": "Create CSV for Video Files using Musical Gesture.ipynb",
      "provenance": [],
      "collapsed_sections": [],
      "machine_shape": "hm"
    },
    "kernelspec": {
      "display_name": "Python 3",
      "name": "python3"
    }
  },
  "cells": [
    {
      "cell_type": "markdown",
      "metadata": {
        "id": "ikodwWIyTDl4"
      },
      "source": [
        "# **Reads the dataset folder**\n",
        "**1. Generates CSV files for each mp4 files present in the subdirectory of that folder**"
      ]
    },
    {
      "cell_type": "code",
      "metadata": {
        "colab": {
          "base_uri": "https://localhost:8080/"
        },
        "id": "d8lp65sAQdJ_",
        "outputId": "bed4fee3-0368-4195-f40f-ed1cb44dea9c"
      },
      "source": [
        "from google.colab import drive\n",
        "drive.mount('/content/drive')"
      ],
      "execution_count": null,
      "outputs": [
        {
          "output_type": "stream",
          "text": [
            "Mounted at /content/drive\n"
          ],
          "name": "stdout"
        }
      ]
    },
    {
      "cell_type": "code",
      "metadata": {
        "colab": {
          "base_uri": "https://localhost:8080/"
        },
        "id": "uU8-YGV8UsFd",
        "outputId": "09985693-11de-466f-e514-943fa0d1b275"
      },
      "source": [
        "!pip install musicalgestures madmom"
      ],
      "execution_count": null,
      "outputs": [
        {
          "output_type": "stream",
          "text": [
            "Collecting musicalgestures\n",
            "\u001b[?25l  Downloading https://files.pythonhosted.org/packages/66/04/37879914df100ff16d5c195e27294b9ee45c1746de8d3a2c93dcbb08107f/musicalgestures-1.0.6-py3-none-any.whl (35.0MB)\n",
            "\u001b[K     |████████████████████████████████| 35.0MB 159kB/s \n",
            "\u001b[?25hCollecting madmom\n",
            "\u001b[?25l  Downloading https://files.pythonhosted.org/packages/c7/a3/9f3de3e8068a3606331134d96b84c8db4f7624d6715be8ab3c1f56e6731d/madmom-0.16.1.tar.gz (20.0MB)\n",
            "\u001b[K     |████████████████████████████████| 20.0MB 1.3MB/s \n",
            "\u001b[?25hRequirement already satisfied: opencv-python in /usr/local/lib/python3.6/dist-packages (from musicalgestures) (4.1.2.30)\n",
            "Requirement already satisfied: numpy in /usr/local/lib/python3.6/dist-packages (from musicalgestures) (1.18.5)\n",
            "Collecting ffmpeg-python\n",
            "  Downloading https://files.pythonhosted.org/packages/d7/0c/56be52741f75bad4dc6555991fabd2e07b432d333da82c11ad701123888a/ffmpeg_python-0.2.0-py3-none-any.whl\n",
            "Requirement already satisfied: scipy in /usr/local/lib/python3.6/dist-packages (from musicalgestures) (1.4.1)\n",
            "Requirement already satisfied: pandas in /usr/local/lib/python3.6/dist-packages (from musicalgestures) (1.1.4)\n",
            "Requirement already satisfied: moviepy in /usr/local/lib/python3.6/dist-packages (from musicalgestures) (0.2.3.5)\n",
            "Requirement already satisfied: matplotlib in /usr/local/lib/python3.6/dist-packages (from musicalgestures) (3.2.2)\n",
            "Collecting ffmpeg\n",
            "  Downloading https://files.pythonhosted.org/packages/f0/cc/3b7408b8ecf7c1d20ad480c3eaed7619857bf1054b690226e906fdf14258/ffmpeg-1.4.tar.gz\n",
            "Requirement already satisfied: cython>=0.25 in /usr/local/lib/python3.6/dist-packages (from madmom) (0.29.21)\n",
            "Collecting mido>=1.2.8\n",
            "\u001b[?25l  Downloading https://files.pythonhosted.org/packages/20/0a/81beb587b1ae832ea6a1901dc7c6faa380e8dd154e0a862f0a9f3d2afab9/mido-1.2.9-py2.py3-none-any.whl (52kB)\n",
            "\u001b[K     |████████████████████████████████| 61kB 8.6MB/s \n",
            "\u001b[?25hRequirement already satisfied: future in /usr/local/lib/python3.6/dist-packages (from ffmpeg-python->musicalgestures) (0.16.0)\n",
            "Requirement already satisfied: python-dateutil>=2.7.3 in /usr/local/lib/python3.6/dist-packages (from pandas->musicalgestures) (2.8.1)\n",
            "Requirement already satisfied: pytz>=2017.2 in /usr/local/lib/python3.6/dist-packages (from pandas->musicalgestures) (2018.9)\n",
            "Requirement already satisfied: imageio<3.0,>=2.1.2 in /usr/local/lib/python3.6/dist-packages (from moviepy->musicalgestures) (2.4.1)\n",
            "Requirement already satisfied: tqdm<5.0,>=4.11.2 in /usr/local/lib/python3.6/dist-packages (from moviepy->musicalgestures) (4.41.1)\n",
            "Requirement already satisfied: decorator<5.0,>=4.0.2 in /usr/local/lib/python3.6/dist-packages (from moviepy->musicalgestures) (4.4.2)\n",
            "Requirement already satisfied: kiwisolver>=1.0.1 in /usr/local/lib/python3.6/dist-packages (from matplotlib->musicalgestures) (1.3.1)\n",
            "Requirement already satisfied: pyparsing!=2.0.4,!=2.1.2,!=2.1.6,>=2.0.1 in /usr/local/lib/python3.6/dist-packages (from matplotlib->musicalgestures) (2.4.7)\n",
            "Requirement already satisfied: cycler>=0.10 in /usr/local/lib/python3.6/dist-packages (from matplotlib->musicalgestures) (0.10.0)\n",
            "Requirement already satisfied: six>=1.5 in /usr/local/lib/python3.6/dist-packages (from python-dateutil>=2.7.3->pandas->musicalgestures) (1.15.0)\n",
            "Requirement already satisfied: pillow in /usr/local/lib/python3.6/dist-packages (from imageio<3.0,>=2.1.2->moviepy->musicalgestures) (7.0.0)\n",
            "Building wheels for collected packages: madmom, ffmpeg\n",
            "  Building wheel for madmom (setup.py) ... \u001b[?25l\u001b[?25hdone\n",
            "  Created wheel for madmom: filename=madmom-0.16.1-cp36-cp36m-linux_x86_64.whl size=20940291 sha256=d630f07055e4b521c94c0fea549955baa735c73b4328ebd542823ca9447ffa97\n",
            "  Stored in directory: /root/.cache/pip/wheels/21/0c/30/e0141aa75fb0a829ba5e1dca2be0860dc98502c1789616637d\n",
            "  Building wheel for ffmpeg (setup.py) ... \u001b[?25l\u001b[?25hdone\n",
            "  Created wheel for ffmpeg: filename=ffmpeg-1.4-cp36-none-any.whl size=6083 sha256=83f787da96ce22a413b94314f7851cd711afc184148c3dc548a914d795bb45bc\n",
            "  Stored in directory: /root/.cache/pip/wheels/b6/68/c3/a05a35f647ba871e5572b9bbfc0b95fd1c6637a2219f959e7a\n",
            "Successfully built madmom ffmpeg\n",
            "Installing collected packages: ffmpeg-python, ffmpeg, musicalgestures, mido, madmom\n",
            "Successfully installed ffmpeg-1.4 ffmpeg-python-0.2.0 madmom-0.16.1 mido-1.2.9 musicalgestures-1.0.6\n"
          ],
          "name": "stdout"
        }
      ]
    },
    {
      "cell_type": "markdown",
      "metadata": {
        "id": "VrQW7apiTU3k"
      },
      "source": [
        "**Reading all the mp4 files in the subfolders and creating a list**"
      ]
    },
    {
      "cell_type": "code",
      "metadata": {
        "id": "VxQ-JkqGRE-q"
      },
      "source": [
        "import os\n",
        "path='/content/drive/MyDrive/RAPGAN/Dataset'\n",
        "mp4files = [os.path.join(root, name)\n",
        "             for root, dirs, files in os.walk(path)\n",
        "             for name in files\n",
        "             if name.endswith((\".mp4\"))]\n",
        "\n",
        "newlist=[]  # filtered List\n",
        "t=0\n",
        "while (t<len(mp4files)):\n",
        "  if(mp4files[t].rindex(\".\")==mp4files[t].index(\".\")):\n",
        "    newlist.append(mp4files[t])\n",
        "  t+=1"
      ],
      "execution_count": null,
      "outputs": []
    },
    {
      "cell_type": "markdown",
      "metadata": {
        "id": "5naKWEPgTwa1"
      },
      "source": [
        "**Just using *vv*  if we need to split into multiple runs.**"
      ]
    },
    {
      "cell_type": "code",
      "metadata": {
        "colab": {
          "base_uri": "https://localhost:8080/"
        },
        "id": "Gfi1oa3KUJTb",
        "outputId": "18886c3e-18b2-4e3b-ea63-47f27231e92b"
      },
      "source": [
        "vv=newlist"
      ],
      "execution_count": null,
      "outputs": [
        {
          "output_type": "execute_result",
          "data": {
            "text/plain": [
              "['/content/drive/MyDrive/RAPGAN/Dataset/12_Spring_vn_vn_vc/Vid_12_Spring_vn_vn_vc.mp4',\n",
              " '/content/drive/MyDrive/RAPGAN/Dataset/06_Entertainer_sax_sax/Vid_06_Entertainer_sax_sax.mp4',\n",
              " '/content/drive/MyDrive/RAPGAN/Dataset/14_Waltz_fl_fl_cl/Vid_14_Waltz_fl_fl_cl.mp4',\n",
              " '/content/drive/MyDrive/RAPGAN/Dataset/11_Maria_ob_vc/Vid_11_Maria_ob_vc.mp4',\n",
              " '/content/drive/MyDrive/RAPGAN/Dataset/08_Spring_fl_vn/Vid_08_Spring_fl_vn.mp4',\n",
              " '/content/drive/MyDrive/RAPGAN/Dataset/09_Jesus_tpt_vn/Vid_09_Jesus_tpt_vn.mp4',\n",
              " '/content/drive/MyDrive/RAPGAN/Dataset/13_Hark_vn_vn_va/Vid_13_Hark_vn_vn_va.mp4',\n",
              " '/content/drive/MyDrive/RAPGAN/Dataset/07_GString_tpt_tbn/Vid_07_GString_tpt_tbn.mp4',\n",
              " '/content/drive/MyDrive/RAPGAN/Dataset/02_Sonata_vn_vn/Vid_02_Sonata_vn_vn.mp4',\n",
              " '/content/drive/MyDrive/RAPGAN/Dataset/03_Dance_fl_cl/Vid_03_Dance_fl_cl.mp4',\n",
              " '/content/drive/MyDrive/RAPGAN/Dataset/01_Jupiter_vn_vc/Vid_01_Jupiter_vn_vc.mp4',\n",
              " '/content/drive/MyDrive/RAPGAN/Dataset/04_Allegro_fl_fl/Vid_04_Allegro_fl_fl.mp4',\n",
              " '/content/drive/MyDrive/RAPGAN/Dataset/05_Entertainer_tpt_tpt/Vid_05_Entertainer_tpt_tpt.mp4']"
            ]
          },
          "metadata": {
            "tags": []
          },
          "execution_count": 4
        }
      ]
    },
    {
      "cell_type": "code",
      "metadata": {
        "id": "p0SODJSVf0g8"
      },
      "source": [
        "import pandas as pd\n",
        "import csv\n",
        "def CreateNewCSV(csvfilepath):\n",
        "  data =pd.read_csv(csvfilepath)\n",
        "  data.shape\n",
        "  i=0\n",
        "  t=0\n",
        "\n",
        "  timeArray=[]\n",
        "  XArray=[]\n",
        "  YArray=[]\n",
        "  QomArray=[]\n",
        "\n",
        "\n",
        "  while(i<=data.iloc[data.shape[0]-1][0]):\n",
        "    # print(i)\n",
        "    if(i==data.iloc[t][0]):\n",
        "      timeArray.append(i)\n",
        "      QomArray.append(data.iloc[t][1])\n",
        "      XArray.append(data.iloc[t][2])\n",
        "      YArray.append(data.iloc[t][3])\n",
        "      t=t+1\n",
        "    else:\n",
        "      timeArray.append(i)\n",
        "      QomArray.append(data.iloc[t][1])\n",
        "      XArray.append(data.iloc[t][2])\n",
        "      YArray.append(data.iloc[t][3])\n",
        "    i=i+1\n",
        "  rows = zip(timeArray,XArray,YArray,QomArray)\n",
        "  with open(csvfilepath, \"w\") as f:\n",
        "      writer = csv.writer(f)\n",
        "      for row in rows:\n",
        "          writer.writerow(row)\n",
        "\n"
      ],
      "execution_count": null,
      "outputs": []
    },
    {
      "cell_type": "code",
      "metadata": {
        "id": "BWAn6DBOU02M"
      },
      "source": [
        "import musicalgestures\n",
        "!mkdir \"/content/csvoutputs\"\n",
        "for i in vv:\n",
        "  a=str(i)\n",
        "  foldername=\"/content\"+a[(a.rindex(\"/\")):a.rindex(\".\")]\n",
        "  !mkdir $foldername\n",
        "  !cp -r $a $foldername\n",
        "  filepath=foldername+a[(a.rindex(\"/\")):]\n",
        "  print( filepath)\n",
        "  mg = musicalgestures.MgObject(filepath)\n",
        "  mm = mg.motion(save_plot=False, save_data=True, save_motiongrams=True, save_video=False)\n",
        "  csvfilepath= foldername+a[(a.rindex(\"/\")):a.rindex(\".\")]+\".csv\"\n",
        "  !cp  \"/content/csvoutputs/\" $csvfilepath\n",
        "  csvfilepath= foldername+a[(a.rindex(\"/\")):a.rindex(\".\")]+\"_motion.csv\"\n",
        "  CreateNewCSV(csvfilepath)\n",
        "  !cp -r  $csvfilepath \"/content/drive/MyDrive/RAPGAN/csv output/MusicalGesture/\"\n",
        "\n",
        "\n",
        "  !rm -rf $foldername\n",
        "\n",
        "\n",
        "\n",
        "\n",
        " # from the current directory\n"
      ],
      "execution_count": null,
      "outputs": []
    }
  ]
}