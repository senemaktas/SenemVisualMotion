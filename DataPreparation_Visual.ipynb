{
  "nbformat": 4,
  "nbformat_minor": 0,
  "metadata": {
    "colab": {
      "name": "Copy of Copy of Prep_Data.ipynb",
      "provenance": [],
      "machine_shape": "hm"
    },
    "kernelspec": {
      "name": "python3",
      "display_name": "Python 3"
    },
    "accelerator": "GPU"
  },
  "cells": [
    {
      "cell_type": "code",
      "metadata": {
        "colab": {
          "base_uri": "https://localhost:8080/"
        },
        "id": "d8lp65sAQdJ_",
        "outputId": "16ccbc6b-ddd5-4680-c18c-5cfc35a68230"
      },
      "source": [
        "from google.colab import drive\n",
        "drive.mount('/content/drive')"
      ],
      "execution_count": null,
      "outputs": [
        {
          "output_type": "stream",
          "text": [
            "Mounted at /content/drive\n"
          ],
          "name": "stdout"
        }
      ]
    },
    {
      "cell_type": "code",
      "metadata": {
        "id": "uU8-YGV8UsFd",
        "colab": {
          "base_uri": "https://localhost:8080/"
        },
        "outputId": "bb6d2a9d-579c-41e1-b1b5-c8f2ba79208c"
      },
      "source": [
        "!pip install musicalgestures madmom"
      ],
      "execution_count": null,
      "outputs": [
        {
          "output_type": "stream",
          "text": [
            "Requirement already satisfied: musicalgestures in /usr/local/lib/python3.6/dist-packages (1.0.6)\n",
            "Requirement already satisfied: madmom in /usr/local/lib/python3.6/dist-packages (0.16.1)\n",
            "Requirement already satisfied: moviepy in /usr/local/lib/python3.6/dist-packages (from musicalgestures) (0.2.3.5)\n",
            "Requirement already satisfied: numpy in /usr/local/lib/python3.6/dist-packages (from musicalgestures) (1.18.5)\n",
            "Requirement already satisfied: matplotlib in /usr/local/lib/python3.6/dist-packages (from musicalgestures) (3.2.2)\n",
            "Requirement already satisfied: scipy in /usr/local/lib/python3.6/dist-packages (from musicalgestures) (1.4.1)\n",
            "Requirement already satisfied: ffmpeg-python in /usr/local/lib/python3.6/dist-packages (from musicalgestures) (0.2.0)\n",
            "Requirement already satisfied: opencv-python in /usr/local/lib/python3.6/dist-packages (from musicalgestures) (4.1.2.30)\n",
            "Requirement already satisfied: ffmpeg in /usr/local/lib/python3.6/dist-packages (from musicalgestures) (1.4)\n",
            "Requirement already satisfied: pandas in /usr/local/lib/python3.6/dist-packages (from musicalgestures) (1.1.4)\n",
            "Requirement already satisfied: mido>=1.2.8 in /usr/local/lib/python3.6/dist-packages (from madmom) (1.2.9)\n",
            "Requirement already satisfied: cython>=0.25 in /usr/local/lib/python3.6/dist-packages (from madmom) (0.29.21)\n",
            "Requirement already satisfied: tqdm<5.0,>=4.11.2 in /usr/local/lib/python3.6/dist-packages (from moviepy->musicalgestures) (4.41.1)\n",
            "Requirement already satisfied: decorator<5.0,>=4.0.2 in /usr/local/lib/python3.6/dist-packages (from moviepy->musicalgestures) (4.4.2)\n",
            "Requirement already satisfied: imageio<3.0,>=2.1.2 in /usr/local/lib/python3.6/dist-packages (from moviepy->musicalgestures) (2.4.1)\n",
            "Requirement already satisfied: cycler>=0.10 in /usr/local/lib/python3.6/dist-packages (from matplotlib->musicalgestures) (0.10.0)\n",
            "Requirement already satisfied: pyparsing!=2.0.4,!=2.1.2,!=2.1.6,>=2.0.1 in /usr/local/lib/python3.6/dist-packages (from matplotlib->musicalgestures) (2.4.7)\n",
            "Requirement already satisfied: kiwisolver>=1.0.1 in /usr/local/lib/python3.6/dist-packages (from matplotlib->musicalgestures) (1.3.1)\n",
            "Requirement already satisfied: python-dateutil>=2.1 in /usr/local/lib/python3.6/dist-packages (from matplotlib->musicalgestures) (2.8.1)\n",
            "Requirement already satisfied: future in /usr/local/lib/python3.6/dist-packages (from ffmpeg-python->musicalgestures) (0.16.0)\n",
            "Requirement already satisfied: pytz>=2017.2 in /usr/local/lib/python3.6/dist-packages (from pandas->musicalgestures) (2018.9)\n",
            "Requirement already satisfied: pillow in /usr/local/lib/python3.6/dist-packages (from imageio<3.0,>=2.1.2->moviepy->musicalgestures) (7.0.0)\n",
            "Requirement already satisfied: six in /usr/local/lib/python3.6/dist-packages (from cycler>=0.10->matplotlib->musicalgestures) (1.15.0)\n"
          ],
          "name": "stdout"
        }
      ]
    },
    {
      "cell_type": "code",
      "metadata": {
        "id": "VxQ-JkqGRE-q"
      },
      "source": [
        "import os\n",
        "path='/content/drive/MyDrive/RAPGAN/Dataset'\n",
        "mp4files = [os.path.join(root, name)\n",
        "             for root, dirs, files in os.walk(path)\n",
        "             for name in files\n",
        "             if name.endswith((\".mp4\"))]\n",
        "\n",
        "newlist=[]  # filtered List\n",
        "t=0\n",
        "while (t<len(mp4files)):\n",
        "  if(mp4files[t].rindex(\".\")==mp4files[t].index(\".\")):\n",
        "    newlist.append(mp4files[t])\n",
        "  t+=1"
      ],
      "execution_count": null,
      "outputs": []
    },
    {
      "cell_type": "code",
      "metadata": {
        "id": "Gfi1oa3KUJTb",
        "colab": {
          "base_uri": "https://localhost:8080/"
        },
        "outputId": "570bff15-c43b-47ba-ebfe-6cc19567b804"
      },
      "source": [
        "vv=newlist[31:]\n",
        "vv"
      ],
      "execution_count": null,
      "outputs": [
        {
          "output_type": "execute_result",
          "data": {
            "text/plain": [
              "['/content/drive/MyDrive/RAPGAN/Dataset/12_Spring_vn_vn_vc/Vid_12_Spring_vn_vn_vc.mp4',\n",
              " '/content/drive/MyDrive/RAPGAN/Dataset/06_Entertainer_sax_sax/Vid_06_Entertainer_sax_sax.mp4',\n",
              " '/content/drive/MyDrive/RAPGAN/Dataset/14_Waltz_fl_fl_cl/Vid_14_Waltz_fl_fl_cl.mp4',\n",
              " '/content/drive/MyDrive/RAPGAN/Dataset/11_Maria_ob_vc/Vid_11_Maria_ob_vc.mp4',\n",
              " '/content/drive/MyDrive/RAPGAN/Dataset/08_Spring_fl_vn/Vid_08_Spring_fl_vn.mp4',\n",
              " '/content/drive/MyDrive/RAPGAN/Dataset/09_Jesus_tpt_vn/Vid_09_Jesus_tpt_vn.mp4',\n",
              " '/content/drive/MyDrive/RAPGAN/Dataset/13_Hark_vn_vn_va/Vid_13_Hark_vn_vn_va.mp4',\n",
              " '/content/drive/MyDrive/RAPGAN/Dataset/07_GString_tpt_tbn/Vid_07_GString_tpt_tbn.mp4',\n",
              " '/content/drive/MyDrive/RAPGAN/Dataset/02_Sonata_vn_vn/Vid_02_Sonata_vn_vn.mp4',\n",
              " '/content/drive/MyDrive/RAPGAN/Dataset/03_Dance_fl_cl/Vid_03_Dance_fl_cl.mp4',\n",
              " '/content/drive/MyDrive/RAPGAN/Dataset/01_Jupiter_vn_vc/Vid_01_Jupiter_vn_vc.mp4',\n",
              " '/content/drive/MyDrive/RAPGAN/Dataset/04_Allegro_fl_fl/Vid_04_Allegro_fl_fl.mp4',\n",
              " '/content/drive/MyDrive/RAPGAN/Dataset/05_Entertainer_tpt_tpt/Vid_05_Entertainer_tpt_tpt.mp4']"
            ]
          },
          "metadata": {
            "tags": []
          },
          "execution_count": 5
        }
      ]
    },
    {
      "cell_type": "code",
      "metadata": {
        "id": "p0SODJSVf0g8"
      },
      "source": [
        "import pandas as pd\n",
        "import csv\n",
        "def CreateNewCSV(csvfilepath):\n",
        "  data =pd.read_csv(csvfilepath)\n",
        "  data.shape\n",
        "  i=0\n",
        "  t=0\n",
        "\n",
        "  timeArray=[]\n",
        "  XArray=[]\n",
        "  YArray=[]\n",
        "  QomArray=[]\n",
        "\n",
        "\n",
        "  while(i<=data.iloc[data.shape[0]-1][0]):\n",
        "    # print(i)\n",
        "    if(i==data.iloc[t][0]):\n",
        "      timeArray.append(i)\n",
        "      QomArray.append(data.iloc[t][1])\n",
        "      XArray.append(data.iloc[t][2])\n",
        "      YArray.append(data.iloc[t][3])\n",
        "      t=t+1\n",
        "    else:\n",
        "      timeArray.append(i)\n",
        "      QomArray.append(data.iloc[t][1])\n",
        "      XArray.append(data.iloc[t][2])\n",
        "      YArray.append(data.iloc[t][3])\n",
        "    i=i+1\n",
        "  rows = zip(timeArray,XArray,YArray,QomArray)\n",
        "  with open(csvfilepath, \"w\") as f:\n",
        "      writer = csv.writer(f)\n",
        "      for row in rows:\n",
        "          writer.writerow(row)\n",
        "\n"
      ],
      "execution_count": null,
      "outputs": []
    },
    {
      "cell_type": "code",
      "metadata": {
        "id": "BWAn6DBOU02M",
        "colab": {
          "base_uri": "https://localhost:8080/"
        },
        "outputId": "1d6ba95e-f629-476f-c61d-e89b1452830c"
      },
      "source": [
        "import musicalgestures\n",
        "!mkdir \"/content/csvoutputs\"\n",
        "\n",
        "for i in vv:\n",
        "  a=str(i)\n",
        "  foldername=\"/content\"+a[(a.rindex(\"/\")):a.rindex(\".\")]\n",
        "  !mkdir $foldername\n",
        "  !cp -r $a $foldername\n",
        "  filepath=foldername+a[(a.rindex(\"/\")):]\n",
        "  print( filepath)\n",
        "  mg = musicalgestures.MgObject(filepath)\n",
        "  mm = mg.motion(save_plot=False, save_data=True, save_motiongrams=True, save_video=False)\n",
        "  csvfilepath= foldername+a[(a.rindex(\"/\")):a.rindex(\".\")]+\".csv\"\n",
        "  !cp  \"/content/csvoutputs/\" $csvfilepath\n",
        "  csvfilepath= foldername+a[(a.rindex(\"/\")):a.rindex(\".\")]+\"_motion.csv\"\n",
        "  CreateNewCSV(csvfilepath)\n",
        "  !cp -r  $csvfilepath \"/content/drive/MyDrive/RAPGAN/csv output/MusicalGesture/\"\n",
        "\n",
        "\n",
        "  !rm -rf $foldername\n",
        "\n",
        "\n",
        "\n",
        "\n",
        " # from the current directory\n"
      ],
      "execution_count": null,
      "outputs": [
        {
          "output_type": "stream",
          "text": [
            "/content/Vid_12_Spring_vn_vn_vc/Vid_12_Spring_vn_vn_vc.mp4\n",
            "Converting from .mp4 to .avi...\n",
            "Rendering motion-grams, -data: |████████████████████████████████████████| 100.0% Complete\n",
            "cp: -r not specified; omitting directory '/content/csvoutputs/'\n",
            "/content/Vid_06_Entertainer_sax_sax/Vid_06_Entertainer_sax_sax.mp4\n",
            "Converting from .mp4 to .avi...\n",
            "Rendering motion-grams, -data: |████████████████████████████████████████| 100.0% Complete\n",
            "cp: -r not specified; omitting directory '/content/csvoutputs/'\n",
            "/content/Vid_14_Waltz_fl_fl_cl/Vid_14_Waltz_fl_fl_cl.mp4\n",
            "Converting from .mp4 to .avi...\n",
            "Rendering motion-grams, -data: |████████████████████████████████████████| 100.0% Complete\n",
            "cp: -r not specified; omitting directory '/content/csvoutputs/'\n",
            "/content/Vid_11_Maria_ob_vc/Vid_11_Maria_ob_vc.mp4\n",
            "Converting from .mp4 to .avi...\n",
            "Rendering motion-grams, -data: |████████████████████████████████████████| 100.0% Complete\n",
            "cp: -r not specified; omitting directory '/content/csvoutputs/'\n",
            "/content/Vid_08_Spring_fl_vn/Vid_08_Spring_fl_vn.mp4\n",
            "Converting from .mp4 to .avi...\n",
            "Rendering motion-grams, -data: |████████████████████████████████████████| 100.0% Complete\n",
            "cp: -r not specified; omitting directory '/content/csvoutputs/'\n",
            "/content/Vid_09_Jesus_tpt_vn/Vid_09_Jesus_tpt_vn.mp4\n",
            "Converting from .mp4 to .avi...\n",
            "Rendering motion-grams, -data: |████████████████████████████████████████| 100.0% Complete\n",
            "cp: -r not specified; omitting directory '/content/csvoutputs/'\n",
            "/content/Vid_13_Hark_vn_vn_va/Vid_13_Hark_vn_vn_va.mp4\n",
            "Converting from .mp4 to .avi...\n",
            "Rendering motion-grams, -data: |████████████████████████████████████████| 100.0% Complete\n",
            "cp: -r not specified; omitting directory '/content/csvoutputs/'\n",
            "/content/Vid_07_GString_tpt_tbn/Vid_07_GString_tpt_tbn.mp4\n",
            "Converting from .mp4 to .avi...\n",
            "Rendering motion-grams, -data: |████████████████████████████████████████| 100.0% Complete\n",
            "cp: -r not specified; omitting directory '/content/csvoutputs/'\n",
            "/content/Vid_02_Sonata_vn_vn/Vid_02_Sonata_vn_vn.mp4\n",
            "Converting from .mp4 to .avi...\n",
            "Rendering motion-grams, -data: |████████████████████████████████████████| 100.0% Complete\n",
            "cp: -r not specified; omitting directory '/content/csvoutputs/'\n",
            "/content/Vid_03_Dance_fl_cl/Vid_03_Dance_fl_cl.mp4\n",
            "Converting from .mp4 to .avi...\n",
            "Rendering motion-grams, -data: |████████████████████████████████████████| 100.0% Complete\n",
            "cp: -r not specified; omitting directory '/content/csvoutputs/'\n",
            "/content/Vid_01_Jupiter_vn_vc/Vid_01_Jupiter_vn_vc.mp4\n",
            "Converting from .mp4 to .avi...\n",
            "Rendering motion-grams, -data: |████████████████████████████████████████| 100.0% Complete\n",
            "cp: -r not specified; omitting directory '/content/csvoutputs/'\n",
            "/content/Vid_04_Allegro_fl_fl/Vid_04_Allegro_fl_fl.mp4\n",
            "Converting from .mp4 to .avi...\n",
            "Rendering motion-grams, -data: |████████████████████████████████████████| 100.0% Complete\n",
            "cp: -r not specified; omitting directory '/content/csvoutputs/'\n",
            "/content/Vid_05_Entertainer_tpt_tpt/Vid_05_Entertainer_tpt_tpt.mp4\n",
            "Converting from .mp4 to .avi...\n",
            "Rendering motion-grams, -data: |████████████████████████████████████████| 100.0% Complete\n",
            "cp: -r not specified; omitting directory '/content/csvoutputs/'\n"
          ],
          "name": "stdout"
        }
      ]
    }
  ]
}